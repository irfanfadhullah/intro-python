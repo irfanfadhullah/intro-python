{
  "nbformat": 4,
  "nbformat_minor": 0,
  "metadata": {
    "colab": {
      "name": "Copy of 004_function",
      "provenance": []
    },
    "kernelspec": {
      "name": "python3",
      "display_name": "Python 3"
    }
  },
  "cells": [
    {
      "cell_type": "markdown",
      "metadata": {
        "id": "K62nVPYYwPRt"
      },
      "source": [
        "*Research Center Digital Business Ecosystem - Telkom University*\n",
        "\n",
        "\n",
        "---\n",
        "\n"
      ]
    },
    {
      "cell_type": "markdown",
      "metadata": {
        "id": "0lv5orlUufRY"
      },
      "source": [
        "# **Function**\n",
        "A function is a set of statements that take inputs, do some specific computation and produces output. The idea is to put some commonly or repeatedly done task together and make a function, so that instead of writing the same code again and again for different inputs, we can call the function.\n",
        "Functions need to be defined, and following are the set of rules to be followed to define a\n",
        "function in Python.\n",
        "\n",
        "• The keyword def denotes the beginning of a function block that will\n",
        "be followed by the name of the function and open, close parentheses.\n",
        "After this, put a colon (:) to indicate the end of the function header.\n",
        "\n",
        "• Functions can accept arguments or parameters. Any such input\n",
        "arguments or parameters should be placed within the parentheses in\n",
        "the header of the parameter.\n",
        "\n",
        "• The main code statements are to be put below the function header\n",
        "and should be indented, which indicates that the code is part of the\n",
        "same function.\n",
        "\n",
        "• Functions can return the expression to the caller. If the return method\n",
        "is not used at the end of the function, it will act as a subprocedure.\n",
        "The key difference between the function and the subprocedure\n",
        "is that the function will always return an expression, whereas the\n",
        "subprocedure will not."
      ]
    },
    {
      "cell_type": "markdown",
      "metadata": {
        "id": "YeNADPIaaoUs"
      },
      "source": [
        "Listing 1-43. Example Code for Creating Functions Without Argument"
      ]
    },
    {
      "cell_type": "code",
      "metadata": {
        "id": "Bsd4hh9BamKO",
        "outputId": "e76f0eee-bd02-41be-dde9-ddba33dc160f",
        "colab": {
          "base_uri": "https://localhost:8080/",
          "height": 36
        }
      },
      "source": [
        "# Simple function\n",
        "def someFunction( ):\n",
        "  print (\"Hello World\")\n",
        "# Call the function\n",
        "someFunction( )"
      ],
      "execution_count": 1,
      "outputs": [
        {
          "output_type": "stream",
          "text": [
            "Hello World\n"
          ],
          "name": "stdout"
        }
      ]
    },
    {
      "cell_type": "markdown",
      "metadata": {
        "id": "V14c3vEwa4pC"
      },
      "source": [
        "Listing 1-44. Example Code for Creating Functions with Arguments"
      ]
    },
    {
      "cell_type": "code",
      "metadata": {
        "id": "znxUm0q-a5l-",
        "outputId": "1b166c90-5564-4fe4-9417-ed090e003723",
        "colab": {
          "base_uri": "https://localhost:8080/",
          "height": 73
        }
      },
      "source": [
        "# simple function to add two numbers\n",
        "def sum_two_numbers(a, b):\n",
        "  return a + b\n",
        "# after this line x will hold the value 3!\n",
        "x = sum_two_numbers(1,2)\n",
        "print (x)\n",
        "# You can also set default value for argument(s) in a function. In the\n",
        "# below example value of b is set to 10 as default\n",
        "def sum_two_numbers(a, b = 10):\n",
        "  return a + b\n",
        "print (sum_two_numbers(10))\n",
        "print (sum_two_numbers(10, 5))"
      ],
      "execution_count": 2,
      "outputs": [
        {
          "output_type": "stream",
          "text": [
            "3\n",
            "20\n",
            "15\n"
          ],
          "name": "stdout"
        }
      ]
    },
    {
      "cell_type": "markdown",
      "metadata": {
        "id": "4RbjRwPT2Ncu"
      },
      "source": [
        "## **Default Arguments**\n",
        "A default argument is a parameter that assumes a default value if a value is not provided in the function call for that argument.The following example illustrates Default arguments."
      ]
    },
    {
      "cell_type": "code",
      "metadata": {
        "id": "jvrGjm0C4dHS",
        "outputId": "4f8c6dbf-9010-457e-8fa5-7562ca1fea68",
        "colab": {
          "base_uri": "https://localhost:8080/",
          "height": 54
        }
      },
      "source": [
        "# Python program to demonstrate \n",
        "# default arguments \n",
        "def myFun(x, y=50): \n",
        "\tprint(\"x: \", x) \n",
        "\tprint(\"y: \", y) \n",
        "\n",
        "# Driver code (We call myFun() with only \n",
        "# argument) \n",
        "myFun(10) "
      ],
      "execution_count": 3,
      "outputs": [
        {
          "output_type": "stream",
          "text": [
            "x:  10\n",
            "y:  50\n"
          ],
          "name": "stdout"
        }
      ]
    },
    {
      "cell_type": "markdown",
      "metadata": {
        "id": "cwiKOVYx41l_"
      },
      "source": [
        "## **Keyword Arguments**\n",
        "The idea is to allow caller to specify argument name with values so that caller does not need to remember order of parameters"
      ]
    },
    {
      "cell_type": "code",
      "metadata": {
        "id": "oMxEpk5b41mD",
        "outputId": "0f3ba75a-29bc-4a67-aef8-ba5c809d9cfd",
        "colab": {
          "base_uri": "https://localhost:8080/",
          "height": 54
        }
      },
      "source": [
        "# Python program to demonstrate Keyword Arguments \n",
        "def student(firstname, lastname): \n",
        "\tprint(firstname, lastname) \n",
        "\t\n",
        "\t\n",
        "# Keyword arguments\t\t\t\t \n",
        "student(firstname ='Geeks', lastname ='Practice')\t \n",
        "student(lastname ='Practice', firstname ='Geeks') "
      ],
      "execution_count": 4,
      "outputs": [
        {
          "output_type": "stream",
          "text": [
            "Geeks Practice\n",
            "Geeks Practice\n"
          ],
          "name": "stdout"
        }
      ]
    },
    {
      "cell_type": "markdown",
      "metadata": {
        "id": "vL38OXJT5DU1"
      },
      "source": [
        "## **Variable length arguments**\n",
        "We can have both normal and keyword variable number of arguments. Please see this for details."
      ]
    },
    {
      "cell_type": "code",
      "metadata": {
        "id": "wTiBPyuf5DU5",
        "outputId": "b0a1432a-95e2-4801-d5ab-b740ef2f67e4",
        "colab": {
          "base_uri": "https://localhost:8080/",
          "height": 91
        }
      },
      "source": [
        "# Python program to illustrate \n",
        "# *args for variable number of arguments \n",
        "def myFun(*argv): \n",
        "\tfor arg in argv: \n",
        "\t\tprint (arg) \n",
        "\t\n",
        "myFun('Hello', 'Welcome', 'to', 'GeeksforGeeks') \n"
      ],
      "execution_count": 5,
      "outputs": [
        {
          "output_type": "stream",
          "text": [
            "Hello\n",
            "Welcome\n",
            "to\n",
            "GeeksforGeeks\n"
          ],
          "name": "stdout"
        }
      ]
    },
    {
      "cell_type": "code",
      "metadata": {
        "id": "8rrFGnDc5MM9",
        "outputId": "6bef4091-a0b3-4777-db24-3601fbedf160",
        "colab": {
          "base_uri": "https://localhost:8080/",
          "height": 73
        }
      },
      "source": [
        "# Python program to illustrate \n",
        "# *kargs for variable number of keyword arguments \n",
        "\n",
        "def myFun(**kwargs): \n",
        "\tfor key, value in kwargs.items(): \n",
        "\t\tprint (\"%s == %s\" %(key, value)) \n",
        "\n",
        "# Driver code \n",
        "myFun(first ='Geeks', mid ='for', last='Geeks')\t \n"
      ],
      "execution_count": 6,
      "outputs": [
        {
          "output_type": "stream",
          "text": [
            "first == Geeks\n",
            "mid == for\n",
            "last == Geeks\n"
          ],
          "name": "stdout"
        }
      ]
    },
    {
      "cell_type": "markdown",
      "metadata": {
        "id": "RE-nfDqO5OXK"
      },
      "source": [
        "## **Anonymous functions**\n",
        "In Python, anonymous function means that a function is without a name. As we already know that def keyword is used to define the normal functions and the lambda keyword is used to create anonymous functions."
      ]
    },
    {
      "cell_type": "code",
      "metadata": {
        "id": "D64eVbcX5OXN",
        "outputId": "cb806e71-4eb2-431c-ffca-4c8d84260b37",
        "colab": {
          "base_uri": "https://localhost:8080/",
          "height": 36
        }
      },
      "source": [
        "# Python code to illustrate cube of a number \n",
        "# using labmda function \n",
        "\t\n",
        "cube = lambda x: x*x*x \n",
        "print(cube(7)) "
      ],
      "execution_count": 7,
      "outputs": [
        {
          "output_type": "stream",
          "text": [
            "343\n"
          ],
          "name": "stdout"
        }
      ]
    }
  ]
}